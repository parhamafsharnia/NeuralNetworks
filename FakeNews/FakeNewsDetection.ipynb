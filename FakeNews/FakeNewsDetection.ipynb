{
 "cells": [
  {
   "cell_type": "markdown",
   "id": "cab5e54e-d138-4c0f-ad0a-69815c398725",
   "metadata": {},
   "source": [
    "# Fake News Detection Based on Hybrid Model (CNN & LSTM) and Simple RNN \n",
    "Simple Implementation based on the PDF documant in the repository.\n",
    "you can find the material on this [link](https://www.sciencedirect.com/science/article/pii/S2667096820300070https://www.sciencedirect.com/science/article/pii/S2667096820300070)"
   ]
  },
  {
   "cell_type": "markdown",
   "id": "f826f27d-43f0-49d3-872e-56623c0ababe",
   "metadata": {},
   "source": [
    "## Read Data"
   ]
  },
  {
   "cell_type": "markdown",
   "id": "ec07b93d-6d62-497a-b118-8521011d4eac",
   "metadata": {},
   "source": [
    "## Preprocessing"
   ]
  },
  {
   "cell_type": "code",
   "execution_count": null,
   "id": "12eaf0d0-e204-41ab-b779-71902762bd5e",
   "metadata": {},
   "outputs": [],
   "source": []
  }
 ],
 "metadata": {
  "kernelspec": {
   "display_name": "Python 3 (ipykernel)",
   "language": "python",
   "name": "python3"
  },
  "language_info": {
   "codemirror_mode": {
    "name": "ipython",
    "version": 3
   },
   "file_extension": ".py",
   "mimetype": "text/x-python",
   "name": "python",
   "nbconvert_exporter": "python",
   "pygments_lexer": "ipython3",
   "version": "3.10.1"
  }
 },
 "nbformat": 4,
 "nbformat_minor": 5
}
